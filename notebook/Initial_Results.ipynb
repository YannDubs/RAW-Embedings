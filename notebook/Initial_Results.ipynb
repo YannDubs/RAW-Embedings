{
 "cells": [
  {
   "cell_type": "code",
   "execution_count": 72,
   "metadata": {
    "ExecuteTime": {
     "end_time": "2018-01-09T06:09:40.119717+08:00",
     "start_time": "2018-01-09T06:09:38.283620Z"
    }
   },
   "outputs": [],
   "source": [
    "import numpy as np\n",
    "import string\n",
    "import matplotlib.pyplot as plt\n",
    "import glob\n",
    "import seaborn as sns\n",
    "import pandas as pd\n",
    "%matplotlib inline\n",
    "\n",
    "from raw.helpers import *\n",
    "from raw.embeddings import *"
   ]
  },
  {
   "cell_type": "markdown",
   "metadata": {},
   "source": [
    "# Testing\n",
    "As an initial test let's run the RAW-EMbeddings on 2 GB of wwikipedia dump. 6 times (3 times back-forth) with 50 dimensions.\n",
    "\n",
    "*Note : I am not using any GPU, do not support parallel preocessing yet, didn't optimize loops with cython. Bottom line the code is slow for now.*"
   ]
  },
  {
   "cell_type": "code",
   "execution_count": 2,
   "metadata": {},
   "outputs": [
    {
     "name": "stdout",
     "output_type": "stream",
     "text": [
      "CPU times: user 7h 9min 9s, sys: 8min 8s, total: 7h 17min 17s\n",
      "Wall time: 7h 14min 38s\n"
     ]
    }
   ],
   "source": [
    "%%time\n",
    "e = RawEmbedding(nEpoch=3,dim=50)\n",
    "e.train(glob.glob(\"data/corpora/*\"))"
   ]
  },
  {
   "cell_type": "markdown",
   "metadata": {},
   "source": [
    "## Norm\n",
    "This part is basically what RAW Embeddings add to current word embeddings and **the results are encouraging.**\n",
    "\n",
    "Before diving into some comparaison it is useful to keep in mind the average norm of our word embeddings."
   ]
  },
  {
   "cell_type": "code",
   "execution_count": 222,
   "metadata": {},
   "outputs": [
    {
     "data": {
      "text/plain": [
       "0.965206082298148"
      ]
     },
     "execution_count": 222,
     "metadata": {},
     "output_type": "execute_result"
    }
   ],
   "source": [
    "np.mean(np.linalg.norm(e.embeddings,axis=1))"
   ]
  },
  {
   "cell_type": "markdown",
   "metadata": {},
   "source": [
    "### Large Norm\n",
    "Let's look at the words with the largest norm. Note that if everything works well these should be the words that are found extremely rarely => do no exist or spelling mistakes. "
   ]
  },
  {
   "cell_type": "code",
   "execution_count": 43,
   "metadata": {},
   "outputs": [
    {
     "name": "stdout",
     "output_type": "stream",
     "text": [
      "theformula\n",
      "fivehistory\n",
      "radiatorthese\n",
      "zealandenglandwalesscotlandirelandfrancethe\n",
      "franceburton\n",
      "santorojoining\n",
      "stateinferior\n",
      "gamecatching\n",
      "lestatsavage\n",
      "customtowards\n",
      "visiblestrategyexplorationthe\n",
      "promotedbattle\n",
      "gamemusicunlike\n",
      "admiralswilliam\n",
      "bullsblackhawks\n",
      "fileschoicechoosing\n",
      "serviceadministrative\n",
      "hexesthe\n",
      "pricebear\n",
      "meetingtim\n",
      "planregardless\n",
      "finlandcommander\n",
      "ottawathree\n",
      "labyrinthinealso\n",
      "mediacurrently\n",
      "formspoliticalcountries\n",
      "associationcox\n",
      "notthousands\n",
      "cardlabelsone\n",
      "goodfoundationthe\n"
     ]
    }
   ],
   "source": [
    "largNorm = e.max_norm(k=30)\n",
    "\n",
    "for w,n in largNorm.items():\n",
    "    print(w)"
   ]
  },
  {
   "cell_type": "markdown",
   "metadata": {},
   "source": [
    "As hypothesised these are non existant words.\n",
    "\n",
    "### Small Norm\n",
    "Let's look at the words with the largest norm. Note that if everything works well these should be the words that are found extremely often and around any other words (i.e don't have a strong meaning associated with them)."
   ]
  },
  {
   "cell_type": "code",
   "execution_count": 44,
   "metadata": {},
   "outputs": [
    {
     "name": "stdout",
     "output_type": "stream",
     "text": [
      "socorro\n",
      "linear\n",
      "september\n",
      "may\n",
      "january\n",
      "december\n",
      "april\n",
      "february\n",
      "august\n",
      "october\n",
      "november\n",
      "march\n",
      "th\n",
      "highway\n",
      "in\n",
      "the\n",
      "division\n",
      "route\n",
      "of\n",
      "to\n",
      "and\n",
      "state\n",
      "for\n",
      "july\n",
      "a\n",
      "was\n",
      "is\n",
      "united\n",
      "infantry\n",
      "new\n"
     ]
    }
   ],
   "source": [
    "smallNorm = e.min_norm(k=30)\n",
    "\n",
    "for w,n in smallNorm.items():\n",
    "    print(w)"
   ]
  },
  {
   "cell_type": "markdown",
   "metadata": {},
   "source": [
    "As hypothesized words that are largely used and often in different context such as : `to`,`of`,`may`,`the`,`in`,`th`(I assume in the sense 6th),`a`,`was`,`for`.\n",
    "\n",
    "Concerning the months of the year we might think that this is an error in the algorithm. But I believe it is simply an issue in the preprocessing step. To make thing easier I lowercased everywords, which means that `may` and `May` are indistinguishable. Because `may` is one of those words that doesn't carry much meaning it's vector is close to 0, and because all the months should be close to `May=may` they will also be close to 0.\n",
    "\n",
    "Bottom line : this problem is due to my crude preprocessing, but it actually shows that the algorithm works as expected."
   ]
  },
  {
   "cell_type": "markdown",
   "metadata": {},
   "source": [
    "### Norm as a proxy to strength of meaning"
   ]
  },
  {
   "cell_type": "code",
   "execution_count": 191,
   "metadata": {},
   "outputs": [],
   "source": [
    "def heat_intra_similarity(txt,metric=\"cosine\",**kwargs):\n",
    "    similarity = e.intra_similarity(txt,metric,**kwargs)\n",
    "    \n",
    "    # Generate a mask for the upper triangle\n",
    "    mask = np.zeros_like(similarity, dtype=np.bool)\n",
    "    mask[np.triu_indices_from(mask,k=1)] = True\n",
    "\n",
    "    cmap = sns.diverging_palette(220, 10, as_cmap=True)\n",
    "    \n",
    "    fig, ax = plt.subplots(figsize=(17,9))\n",
    "    fig.suptitle('{} distance between words. 0 means same, 2 is max.'.format(metric.capitalize()),fontsize=17,weight=\"bold\")\n",
    "    similarity = pd.DataFrame(similarity,columns = txt.split(), index = txt.split())\n",
    "    sns.heatmap(similarity,ax=ax,annot=True,yticklabels=True,mask=mask,cmap=cmap,center=1)"
   ]
  },
  {
   "cell_type": "markdown",
   "metadata": {},
   "source": [
    "Let's look at the norm of different words that have a similar \"strength\" of meaning."
   ]
  },
  {
   "cell_type": "code",
   "execution_count": 193,
   "metadata": {},
   "outputs": [
    {
     "name": "stdout",
     "output_type": "stream",
     "text": [
      "good has norm : 5.636070931923539e-26\n",
      "best has norm : 1.306506121273611e-26\n",
      "excellent has norm : 3.6733504593087096e-22\n",
      "amazing has norm : 2.193515552505954e-19\n",
      "\n",
      "strong has norm : 8.356386760349538e-25\n",
      "stronger has norm : 1.1785683936594214e-21\n",
      "strongest has norm : 6.017437860851973e-20\n",
      "\n"
     ]
    }
   ],
   "source": [
    "txt = 'good best excellent amazing strong stronger strongest'\n",
    "words = txt.split()\n",
    "\n",
    "for word in words[:4]:  \n",
    "    print(\"{} has norm : {}\".format(word,np.linalg.norm(e[word])))\n",
    "print()    \n",
    "for word in words[4:]:  \n",
    "    print(\"{} has norm : {}\".format(word,np.linalg.norm(e[word])))\n",
    "print()    "
   ]
  },
  {
   "cell_type": "markdown",
   "metadata": {},
   "source": [
    "From this example is seems that words with a stronger meaning have larger vectors.\n",
    "\n",
    "Let's now see if the angle of the vectors kind of keep the meaning of the vector as we hypotesized."
   ]
  },
  {
   "cell_type": "code",
   "execution_count": 194,
   "metadata": {},
   "outputs": [
    {
     "data": {
      "image/png": "[encoded data removed]",
      "text/plain": [
       "<matplotlib.figure.Figure at 0x12d3682b0>"
      ]
     },
     "metadata": {},
     "output_type": "display_data"
    }
   ],
   "source": [
    "heat_intra_similarity('good best excellent amazing strong stronger strongest',metric=\"cosine\")"
   ]
  },
  {
   "cell_type": "markdown",
   "metadata": {},
   "source": [
    "We see that the angle seems to keep some kind of semantic siliarity like `best != (strong ~= stronger)` or `best ~= excellent` or `best ~= amazing`. But doesn't as well as the norm encoding the strength and definitely not as well as word2vec or GloVe. This foreshadows the results of the next section. But we should still keep in mind that this is a simple and crude first implementation."
   ]
  },
  {
   "cell_type": "markdown",
   "metadata": {},
   "source": [
    "### Norm ~= strength(meaning) or Norm ~= nOccurences ?\n",
    "\n",
    "A valid question to ask ourselves is whether the norm really encodes the strength of the meaning or does it only encode the nuber of occurences. Indeed we could argue that `strong` occures simply more often than `stronger`. What we really want it to do is to make smaller norm when the words occure in different context. Although teh 2 are  correlated (a word used in many context will often be more used), we should still make teh distinction.\n",
    "\n",
    "Is the norm always decreasing with the number of occurences ?"
   ]
  },
  {
   "cell_type": "code",
   "execution_count": 219,
   "metadata": {},
   "outputs": [],
   "source": [
    "n=10000\n",
    "random_idx = np.random.randint(low=0,high=len(e.embeddings),size=n)\n",
    "random_words = e._word(list(random_idx))"
   ]
  },
  {
   "cell_type": "code",
   "execution_count": 221,
   "metadata": {},
   "outputs": [],
   "source": [
    "random_words = [k for k,v in e.hash.items() if v in list(random_idx)]"
   ]
  },
  {
   "cell_type": "code",
   "execution_count": 223,
   "metadata": {},
   "outputs": [],
   "source": [
    "# dictionnary of {word : (norm,occurence)}\n",
    "d = {}\n",
    "for word in random_words:\n",
    "    d[word] = (np.linalg.norm(e[word]),e.countWords[word])"
   ]
  },
  {
   "cell_type": "code",
   "execution_count": 224,
   "metadata": {},
   "outputs": [],
   "source": [
    "def n_swaps(l1,l2):\n",
    "    \"\"\"Number of swaps to make 2 lists the same.\"\"\"\n",
    "    nSwaps = 0\n",
    "    swapped = set()\n",
    "    for e1,e2 in zip(l1,l2):\n",
    "        if e1 != e2 and e1 not in swapped:\n",
    "            nSwaps += 1\n",
    "            swapped.add(e1)\n",
    "            swapped.add(e2)\n",
    "    return nSwaps"
   ]
  },
  {
   "cell_type": "code",
   "execution_count": 225,
   "metadata": {},
   "outputs": [],
   "source": [
    "sortNorm = sorted(d.items(), key=lambda t: t[1][0])\n",
    "sortOcc = sorted(d.items(), key=lambda t: t[1][1]) "
   ]
  },
  {
   "cell_type": "code",
   "execution_count": 226,
   "metadata": {},
   "outputs": [
    {
     "data": {
      "text/plain": [
       "5986"
      ]
     },
     "execution_count": 226,
     "metadata": {},
     "output_type": "execute_result"
    }
   ],
   "source": [
    "n_swaps(sortNorm,sortOcc)"
   ]
  },
  {
   "cell_type": "markdown",
   "metadata": {},
   "source": [
    "This shows that the algorithm seems to learn `Norm ~= strength(meaning)` rather than `Norm ~= nOccurences`. Note that all vectors are randomly initalized with a unit vector so the proprety doesn't come from initialization."
   ]
  },
  {
   "cell_type": "markdown",
   "metadata": {},
   "source": [
    "## Similarities\n",
    "\n",
    "This is basically what works so well in current word vectors. If RAW-Embeddings want to improve over current methods they should do so (example results in the **Norm** section, without hindering the results in his section).\n",
    "\n",
    "### Semantic Neighbours"
   ]
  },
  {
   "cell_type": "markdown",
   "metadata": {},
   "source": [
    "Let's look at the most similar words to a few querry words based on multiple different metrics.\n",
    "\n",
    "*Note: I didn't play around at all wiht hyperparameters I simply used some that I thought made sense. So I just want to see whether results seem at least a little encouraging*.\n",
    "\n",
    "Although I'm testing out multiple different metrics I hypothesize that something simple like L1 or L2 distance should work pretty well. Note that although *cosine similarity* should work relatively well for vectors with large norms, it will probably not be a good metric overall as they might have a similar angle to words with low norms that just happen to have this angle although the algorithm really wants to bring them to 0."
   ]
  },
  {
   "cell_type": "code",
   "execution_count": 3,
   "metadata": {},
   "outputs": [
    {
     "name": "stdout",
     "output_type": "stream",
     "text": [
      "-- braycurtis --\n",
      "cat | odict_keys(['disaster', 'spaces', 'acre', 'pc', 'madrid'])\n",
      "dog | odict_keys(['comprised', 'childrens', 'incident', 'rear', 'identical'])\n",
      "germany | odict_keys(['computer', 'stations', 'georgia', 'similar', 'standard'])\n",
      "man | odict_keys(['process', 'reached', 'subject', 'income', 'competition'])\n",
      "yellow | odict_keys(['dbindexa', 'purchased', 'socialist', 'broken', 'bishop'])\n",
      "computer | odict_keys(['similar', 'germany', 'ability', 'units', 'start'])\n",
      "kiwi | odict_keys(['boniface', 'padma', 'puppy', 'witchcraft', 'jesuits'])\n",
      "banana | odict_keys(['remixes', 'sequels', 'collects', 'contributes', 'lyrical'])\n",
      "\n",
      "-- canberra --\n",
      "cat | odict_keys(['reduction', 'yankees', 'keeps', 'mechanical', 'exceptions'])\n",
      "dog | odict_keys(['seek', 'childrens', 'commissioner', 'assessment', 'statistics'])\n",
      "germany | odict_keys(['common', 'power', 'operations', 'runs', 'book'])\n",
      "man | odict_keys(['process', 'scotland', 'hit', 'having', 'although'])\n",
      "yellow | odict_keys(['opposite', 'universal', 'teach', 'zero', 'elementary'])\n",
      "computer | odict_keys(['oklahoma', 'action', 'question', 'start', 'considered'])\n",
      "kiwi | odict_keys(['jared', 'blogendofarticledocdoc', 'hwang', 'brann', 'nectar'])\n",
      "banana | odict_keys(['diabetes', 'goldberg', 'brewing', 'assassin', 'boyle'])\n",
      "\n",
      "-- chebyshev --\n",
      "cat | odict_keys(['observation', 'considering', 'credits', 'surrounded', 'focused'])\n",
      "dog | odict_keys(['sort', 'childrens', 'fundamental', 'consecutive', 'worldwide'])\n",
      "germany | odict_keys(['stations', 'six', 'technology', 'similar', 'arts'])\n",
      "man | odict_keys(['took', 'civil', 'america', 'played', 'final'])\n",
      "yellow | odict_keys(['store', 'speech', 'streets', 'expanded', 'employment'])\n",
      "computer | odict_keys(['similar', 'germany', 'georgia', 'stations', 'leader'])\n",
      "kiwi | odict_keys(['puppy', 'witchcraft', 'boniface', 'jesuits', 'valentines'])\n",
      "banana | odict_keys(['jade', 'nielsen', 'remixes', 'activation', 'mess'])\n",
      "\n",
      "-- cityblock --\n",
      "cat | odict_keys(['computers', 'survived', 'credits', 'branches', 'focused'])\n",
      "dog | odict_keys(['examples', 'settled', 'check', 'duke', 'athletic'])\n",
      "germany | odict_keys(['program', 'science', 'c', 'so', 'released'])\n",
      "man | odict_keys(['nd', 'income', 'ireland', 'kingdom', 'between'])\n",
      "yellow | odict_keys(['subjects', 'develop', 'evidence', 'defined', 'network'])\n",
      "computer | odict_keys(['germany', 'cities', 'units', 'song', 'naval'])\n",
      "kiwi | odict_keys(['boniface', 'jesuits', 'puppy', 'witchcraft', 'padma'])\n",
      "banana | odict_keys(['contributes', 'plagued', 'sequels', 'drainage', 'displaying'])\n",
      "\n",
      "-- correlation --\n",
      "cat | odict_keys(['riff', 'disaster', 'acre', 'plaque', 'anderson'])\n",
      "dog | odict_keys(['dog', 'cauldron', 'roadthe', 'tramp', 'prefectures', 'manufacturer'])\n",
      "germany | odict_keys(['precursors', 'originate', 'joshi', 'gk', 'ishikawa'])\n",
      "man | odict_keys(['dwell', 'gsta', 'castleneedlestarting', 'propulsion', 'berthold'])\n",
      "yellow | odict_keys(['bureaucratic', 'gwyneth', 'concepcion', 'inlet', 'stonewall'])\n",
      "computer | odict_keys(['requesting', 'originate', 'laguna', 'joshi', 'squads'])\n",
      "kiwi | odict_keys(['lille', 'boring', 'squash', 'teri', 'oi'])\n",
      "banana | odict_keys(['ventral', 'remixes', 'modena', 'twig', 'empires'])\n",
      "\n",
      "-- cosine --\n",
      "cat | odict_keys(['riff', 'disaster', 'acre', 'skinny', 'anderson'])\n",
      "dog | odict_keys(['roadthe', 'cauldron', 'tramp', 'ambitious', 'minutecanadian'])\n",
      "germany | odict_keys(['precursors', 'originate', 'joshi', 'ishikawa', 'gk'])\n",
      "man | odict_keys(['dwell', 'gsta', 'castleneedlestarting', 'berthold', 'propulsion'])\n",
      "yellow | odict_keys(['bureaucratic', 'gwyneth', 'concepcion', 'inlet', 'franceexternal'])\n",
      "computer | odict_keys(['requesting', 'originate', 'laguna', 'joshi', 'squads'])\n",
      "kiwi | odict_keys(['lille', 'squash', 'boring', 'teri', 'japanendofarticledocdoc'])\n",
      "banana | odict_keys(['banana', 'remixes', 'ventral', 'twig', 'concorde', 'modena'])\n",
      "\n",
      "-- euclidean --\n",
      "cat | odict_keys(['observation', 'focused', 'credits', 'computers', 'branches'])\n",
      "dog | odict_keys(['consecutive', 'duke', 'settled', 'containing', 'setting'])\n",
      "germany | odict_keys(['stations', 'six', 'band', 'economic', 'great'])\n",
      "man | odict_keys(['income', 'board', 'census', 'age', 'international'])\n",
      "yellow | odict_keys(['philippines', 'speech', 'railroad', 'expanded', 'color'])\n",
      "computer | odict_keys(['similar', 'germany', 'stations', 'six', 'technology'])\n",
      "kiwi | odict_keys(['boniface', 'puppy', 'jesuits', 'witchcraft', 'valentines'])\n",
      "banana | odict_keys(['traction', 'plagued', 'drainage', 'remixes', 'jade'])\n",
      "\n",
      "-- hamming --\n",
      "cat | odict_keys(['producersrick', 'summergeographythe', 'kuvat', 'duvallstephen', 'authorgoulburn'])\n",
      "dog | odict_keys(['trainingliterary', 'kuvat', 'duvallstephen', 'authorgoulburn', 'awardadam'])\n",
      "germany | odict_keys(['authorgoulburn', 'producersrick', 'kuvat', 'duvallstephen', 'awardadam'])\n",
      "man | odict_keys(['authorgoulburn', 'producersrick', 'kuvat', 'duvallstephen', 'awardadam'])\n",
      "yellow | odict_keys(['authorgoulburn', 'summergeographythe', 'kuvat', 'duvallstephen', 'producersrick'])\n",
      "computer | odict_keys(['trainingliterary', 'walkinperformerspaul', 'authorgoulburn', 'producersrick', 'kuvat'])\n",
      "kiwi | odict_keys(['producersrick', 'summergeographythe', 'kuvat', 'duvallstephen', 'programsleadership'])\n",
      "banana | odict_keys(['producersrick', 'trainingliterary', 'duvallstephen', 'authorgoulburn', 'summergeographythe'])\n",
      "\n",
      "-- jaccard --\n",
      "cat | odict_keys(['producersrick', 'summergeographythe', 'kuvat', 'duvallstephen', 'authorgoulburn'])\n",
      "dog | odict_keys(['trainingliterary', 'kuvat', 'duvallstephen', 'authorgoulburn', 'awardadam'])\n",
      "germany | odict_keys(['authorgoulburn', 'producersrick', 'kuvat', 'duvallstephen', 'awardadam'])\n",
      "man | odict_keys(['authorgoulburn', 'producersrick', 'kuvat', 'duvallstephen', 'awardadam'])\n",
      "yellow | odict_keys(['authorgoulburn', 'summergeographythe', 'kuvat', 'duvallstephen', 'producersrick'])\n",
      "computer | odict_keys(['trainingliterary', 'walkinperformerspaul', 'authorgoulburn', 'producersrick', 'kuvat'])\n",
      "kiwi | odict_keys(['producersrick', 'summergeographythe', 'kuvat', 'duvallstephen', 'programsleadership'])\n",
      "banana | odict_keys(['producersrick', 'trainingliterary', 'duvallstephen', 'authorgoulburn', 'summergeographythe'])\n",
      "\n",
      "-- mahalanobis --\n",
      "cat | odict_keys(['observation', 'focused', 'credits', 'computers', 'branches'])\n",
      "dog | odict_keys(['consecutive', 'duke', 'settled', 'containing', 'setting'])\n",
      "germany | odict_keys(['stations', 'six', 'band', 'economic', 'great'])\n",
      "man | odict_keys(['income', 'board', 'census', 'age', 'international'])\n",
      "yellow | odict_keys(['philippines', 'speech', 'railroad', 'expanded', 'color'])\n",
      "computer | odict_keys(['similar', 'germany', 'stations', 'six', 'technology'])\n",
      "kiwi | odict_keys(['boniface', 'puppy', 'jesuits', 'witchcraft', 'valentines'])\n",
      "banana | odict_keys(['traction', 'plagued', 'drainage', 'remixes', 'jade'])\n",
      "\n",
      "-- minkowski --\n",
      "cat | odict_keys(['observation', 'focused', 'credits', 'computers', 'branches'])\n",
      "dog | odict_keys(['consecutive', 'duke', 'settled', 'containing', 'setting'])\n",
      "germany | odict_keys(['stations', 'six', 'band', 'economic', 'great'])\n",
      "man | odict_keys(['income', 'board', 'census', 'age', 'international'])\n",
      "yellow | odict_keys(['philippines', 'speech', 'railroad', 'expanded', 'color'])\n",
      "computer | odict_keys(['similar', 'germany', 'stations', 'six', 'technology'])\n",
      "kiwi | odict_keys(['boniface', 'puppy', 'jesuits', 'witchcraft', 'valentines'])\n",
      "banana | odict_keys(['traction', 'plagued', 'drainage', 'remixes', 'jade'])\n",
      "\n",
      "-- seuclidean --\n",
      "cat | odict_keys(['observation', 'focused', 'credits', 'computers', 'branches'])\n",
      "dog | odict_keys(['consecutive', 'duke', 'settled', 'containing', 'setting'])\n",
      "germany | odict_keys(['stations', 'six', 'band', 'economic', 'great'])\n",
      "man | odict_keys(['income', 'board', 'census', 'age', 'international'])\n",
      "yellow | odict_keys(['philippines', 'speech', 'railroad', 'expanded', 'color'])\n",
      "computer | odict_keys(['similar', 'germany', 'stations', 'six', 'technology'])\n",
      "kiwi | odict_keys(['boniface', 'puppy', 'jesuits', 'witchcraft', 'valentines'])\n",
      "banana | odict_keys(['traction', 'plagued', 'drainage', 'remixes', 'jade'])\n",
      "\n",
      "-- sqeuclidean --\n",
      "cat | odict_keys(['observation', 'focused', 'credits', 'computers', 'branches'])\n",
      "dog | odict_keys(['consecutive', 'duke', 'settled', 'containing', 'setting'])\n"
     ]
    },
    {
     "name": "stdout",
     "output_type": "stream",
     "text": [
      "germany | odict_keys(['stations', 'six', 'band', 'economic', 'great'])\n",
      "man | odict_keys(['income', 'board', 'census', 'age', 'international'])\n",
      "yellow | odict_keys(['philippines', 'speech', 'railroad', 'expanded', 'color'])\n",
      "computer | odict_keys(['similar', 'germany', 'stations', 'six', 'technology'])\n",
      "kiwi | odict_keys(['boniface', 'puppy', 'jesuits', 'witchcraft', 'valentines'])\n",
      "banana | odict_keys(['traction', 'plagued', 'drainage', 'remixes', 'jade'])\n",
      "\n",
      "-- yule --\n",
      "cat | odict_keys(['authorgoulburn', 'producersrick', 'summergeographythe', 'kuvat', 'duvallstephen', 'programsleadership'])\n",
      "dog | odict_keys(['authorgoulburn', 'producersrick', 'summergeographythe', 'kuvat', 'duvallstephen', 'programsleadership'])\n",
      "germany | odict_keys(['authorgoulburn', 'producersrick', 'summergeographythe', 'kuvat', 'duvallstephen', 'programsleadership'])\n",
      "man | odict_keys(['authorgoulburn', 'producersrick', 'summergeographythe', 'kuvat', 'duvallstephen', 'programsleadership'])\n",
      "yellow | odict_keys(['authorgoulburn', 'producersrick', 'summergeographythe', 'kuvat', 'duvallstephen', 'programsleadership'])\n",
      "computer | odict_keys(['authorgoulburn', 'producersrick', 'summergeographythe', 'kuvat', 'duvallstephen', 'programsleadership'])\n",
      "kiwi | odict_keys(['authorgoulburn', 'producersrick', 'summergeographythe', 'kuvat', 'duvallstephen', 'programsleadership'])\n",
      "banana | odict_keys(['authorgoulburn', 'producersrick', 'summergeographythe', 'kuvat', 'duvallstephen', 'programsleadership'])\n",
      "\n"
     ]
    }
   ],
   "source": [
    "querries = ['cat','dog','germany','man','yellow','computer','kiwi','banana']\n",
    "metrics = ['braycurtis', 'canberra', 'chebyshev', 'cityblock', 'correlation','cosine', 'euclidean',\n",
    "            'hamming', 'jaccard', 'mahalanobis', 'minkowski', 'seuclidean', 'sqeuclidean']\n",
    "\n",
    "for metric in metrics:\n",
    "    print(\"-- {} --\".format(metric))\n",
    "    for word in querries:\n",
    "        print(word,\"|\",e.nearest_neigbours(word,metric=metric).keys())\n",
    "    print()"
   ]
  },
  {
   "cell_type": "markdown",
   "metadata": {},
   "source": [
    "Although there are some similarities that seem pretty good. For example \"yellow\"-\"color\" and \"computer\"-\"technology\", it is far from satisfactory for the rest."
   ]
  },
  {
   "cell_type": "markdown",
   "metadata": {},
   "source": [
    "### Analogies"
   ]
  },
  {
   "cell_type": "code",
   "execution_count": 18,
   "metadata": {
    "scrolled": true
   },
   "outputs": [
    {
     "name": "stdout",
     "output_type": "stream",
     "text": [
      "== germany - berlin + paris ==\n",
      "cityblock: ['belief', 'scale', 'edition', 'ice', 'trains', 'anyone', 'paris', 'couple', 'cricket']\n",
      "euclidean: ['belief', 'ice', 'scale', 'affected', 'soul', 'evening', 'briefly', 'weather', 'electric']\n",
      "cosine: ['pointed', 'belief', 'uno', 'loren', 'duct', 'stop', 'quarterfinals', 'atkinson', 'identification']\n",
      "\n",
      "== woman - man + king ==\n",
      "cityblock: ['woman', 'mi', 'almost', 'african', 'base', 'taken', 'policy', 'shows', 'done']\n",
      "euclidean: ['woman', 'graduate', 'earned', 'industry', 'fourth', 'mi', 'virginia', 'german', 'character']\n",
      "cosine: ['woman', 'plastic', 'amalgamated', 'cleaning', 'basins', 'additional', 'inflation', 'romanesque', 'utilities']\n",
      "\n",
      "== king - prince + princess ==\n",
      "cityblock: ['princess', 'neither', 'carrier', 'zone', 'pressure', 'composed', 'jack', 'sequence', 'equipment']\n",
      "euclidean: ['princess', 'neither', 'composed', 'sequence', 'exception', 'carrier', 'author', 'jack', 'jews']\n",
      "cosine: ['princess', 'awoke', 'aloing', 'deunovcardinal', 'junctionmiddlesex', 'businessmanzarchi', 'linkskatsuyama', 'aqueduct', 'gangi']\n",
      "\n",
      "== slow - slowest + fastest ==\n",
      "cityblock: ['scotsman', 'vasa', 'gita', 'mane', 'gunter', 'persuasion', 'borrowing', 'enid', 'osprey']\n",
      "euclidean: ['scotsman', 'vasa', 'sloboda', 'prefectural', 'gunter', 'transl', 'digs', 'melted', 'kitten']\n",
      "cosine: ['serviceendofarticledocdoc', 'scotsman', 'spring', 'doses', 'gita', 'vasa', 'prefectural', 'hurley', 'osprey']\n",
      "\n",
      "== soft - softer + stronger ==\n",
      "cityblock: ['wilmington', 'meaningful', 'magma', 'gladiator', 'resolutions', 'purported', 'cthulhu', 'maize', 'rediscovered']\n",
      "euclidean: ['wilmington', 'meaningful', 'magma', 'gladiator', 'purported', 'rediscovered', 'cthulhu', 'resolutions', 'arrays']\n",
      "cosine: ['fungi', 'magdalena', 'discount', 'nong', 'harpsichord', 'orr', 'crisp', 'maize', 'swans']\n",
      "\n"
     ]
    }
   ],
   "source": [
    "testAnalogies = [(['germany', 'paris'],['berlin']),\n",
    "                 (['woman', 'king'],['man']),\n",
    "                 (['king', 'princess'],['prince']),\n",
    "                 (['slow', 'fastest'],['slowest']),\n",
    "                 (['soft', 'stronger'],['softer'])]\n",
    "\n",
    "for pos,neg in testAnalogies:\n",
    "    print(\"== {} - {} + {} ==\".format(pos[0],neg[0],pos[1]))\n",
    "    for metric in ['cityblock','euclidean','cosine']:\n",
    "        print(\"{}:\".format(metric),list(e.nearest_analogy(pos=pos,neg=neg,metric=metric,k=8).keys()))\n",
    "    print()"
   ]
  },
  {
   "cell_type": "markdown",
   "metadata": {},
   "source": [
    "The results are feinitely not the ones I was hoping for, but there are still some analogies which seem at least ok (for a crude first implementation with no hyperparameter opt): \n",
    "* `germany - berlin + paris = paris` fine if we consider France close to Paris (i.e at least shows that Germany - Berlin ~ 0).\n",
    "* `king - prince + princess = princess` fine if we consider Queen close to princess (i.e at least shows that king - prince ~ 0).\n",
    "* `soft - softer + stronger = gladiator` fine if we consider a gladiator to be strong."
   ]
  },
  {
   "cell_type": "code",
   "execution_count": null,
   "metadata": {},
   "outputs": [],
   "source": [
    "def heat_dic(dic):\n",
    "    fig, ax = plt.subplots(figsize=(17,9))\n",
    "    sns.heatmap(dic, ax=ax,annot=False,yticklabels=False)"
   ]
  },
  {
   "cell_type": "code",
   "execution_count": null,
   "metadata": {},
   "outputs": [],
   "source": []
  }
 ],
 "metadata": {
  "kernelspec": {
   "display_name": "Python 3",
   "language": "python",
   "name": "python3"
  },
  "language_info": {
   "codemirror_mode": {
    "name": "ipython",
    "version": 3
   },
   "file_extension": ".py",
   "mimetype": "text/x-python",
   "name": "python",
   "nbconvert_exporter": "python",
   "pygments_lexer": "ipython3",
   "version": "3.6.3"
  },
  "toc": {
   "colors": {
    "hover_highlight": "#DAA520",
    "navigate_num": "#000000",
    "navigate_text": "#333333",
    "running_highlight": "#FF0000",
    "selected_highlight": "#FFD700",
    "sidebar_border": "#EEEEEE",
    "wrapper_background": "#FFFFFF"
   },
   "moveMenuLeft": true,
   "nav_menu": {
    "height": "12px",
    "width": "252px"
   },
   "navigate_menu": true,
   "number_sections": true,
   "sideBar": true,
   "threshold": 4,
   "toc_cell": false,
   "toc_section_display": "block",
   "toc_window_display": false,
   "widenNotebook": false
  }
 },
 "nbformat": 4,
 "nbformat_minor": 2
}
